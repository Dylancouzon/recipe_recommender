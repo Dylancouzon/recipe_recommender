{
 "cells": [
  {
   "cell_type": "code",
   "execution_count": 1,
   "id": "initial_id",
   "metadata": {
    "ExecuteTime": {
     "end_time": "2024-12-18T13:57:05.859939Z",
     "start_time": "2024-12-18T13:57:02.639571Z"
    },
    "collapsed": true
   },
   "outputs": [
    {
     "name": "stderr",
     "output_type": "stream",
     "text": [
      "/Users/dylancouzon/Documents/AI_Projects/.venv/lib/python3.9/site-packages/urllib3/__init__.py:35: NotOpenSSLWarning: urllib3 v2 only supports OpenSSL 1.1.1+, currently the 'ssl' module is compiled with 'LibreSSL 2.8.3'. See: https://github.com/urllib3/urllib3/issues/3020\n",
      "  warnings.warn(\n"
     ]
    }
   ],
   "source": [
    "from langchain_community.document_loaders import TextLoader # Importing a custom text loader for the recipe description\n",
    "from langchain_text_splitters import CharacterTextSplitter #Splitting the text into smaller chunks\n",
    "from langchain_openai import OpenAIEmbeddings # Importing OpenAI embeddings for vectorization\n",
    "from langchain_chroma import Chroma #Vector database for storing the embeddings\n",
    "\n",
    "from dotenv import load_dotenv\n",
    "load_dotenv()\n",
    "\n",
    "import pandas as pd\n",
    "recipes = pd.read_csv(\"output_data/common_ingredients_recipes.csv\")"
   ]
  },
  {
   "cell_type": "code",
   "execution_count": 2,
   "id": "a34fa3ca",
   "metadata": {},
   "outputs": [
    {
     "data": {
      "text/plain": [
       "0       149593 this is a never-fail muffin recipe, it'...\n",
       "1       274988 i love soup and this soup is easily a m...\n",
       "2       63346 yes, this cake is made with beets! and y...\n",
       "3       29916 my sister received this recipe from a fr...\n",
       "4       474258 after years of eating at good and plent...\n",
       "                              ...                        \n",
       "1020    104182 i found this recipe on the internet and...\n",
       "1021    69647 smuggle some vegetables into your family...\n",
       "1022    41087 thanks to my fellow zaar chefs for the i...\n",
       "1023    142953 this is great served with crackers, as ...\n",
       "1024    384179 close family friend who has shared many...\n",
       "Name: description, Length: 1025, dtype: object"
      ]
     },
     "execution_count": 2,
     "metadata": {},
     "output_type": "execute_result"
    }
   ],
   "source": [
    "#Append the recipe ID at the beggining of the description\n",
    "#Helps to filter the recipe when querying the vector database from a description\n",
    "recipes[\"description\"] = recipes[\"id\"].astype(str) + \" \" + recipes[\"description\"]\n",
    "\n",
    "recipes[\"description\"]"
   ]
  },
  {
   "cell_type": "code",
   "execution_count": null,
   "id": "3e76ee88029b25bc",
   "metadata": {
    "ExecuteTime": {
     "end_time": "2024-12-18T14:13:56.228918Z",
     "start_time": "2024-12-18T14:13:56.197263Z"
    }
   },
   "outputs": [],
   "source": [
    "#Load the description column into a txt file to be used with LangChaing\n",
    "recipes[\"description\"].to_csv(\"output_data/recipe_description.txt\",\n",
    "                                   sep = \"\\n\",\n",
    "                                   index = False,\n",
    "                                   header = False)"
   ]
  },
  {
   "cell_type": "code",
   "execution_count": null,
   "id": "91a69dfa983f662c",
   "metadata": {
    "ExecuteTime": {
     "end_time": "2024-12-18T14:16:29.022155Z",
     "start_time": "2024-12-18T14:16:27.694781Z"
    }
   },
   "outputs": [],
   "source": [
    "#Instantiate the text splitter\n",
    "raw_documents = TextLoader(\"output_data/recipe_description.txt\").load()\n",
    "text_splitter = CharacterTextSplitter(separator = \"\\n\", chunk_size=1, chunk_overlap=0) \n",
    "documents = text_splitter.split_documents(raw_documents)"
   ]
  },
  {
   "cell_type": "code",
   "execution_count": null,
   "id": "a22b2a4f7ca70d34",
   "metadata": {
    "ExecuteTime": {
     "end_time": "2024-12-18T14:17:57.690227Z",
     "start_time": "2024-12-18T14:17:57.688025Z"
    }
   },
   "outputs": [],
   "source": [
    "#Returns the first recipe description\n",
    "documents[0]"
   ]
  },
  {
   "cell_type": "code",
   "execution_count": 4,
   "id": "b380b8dce41e38b4",
   "metadata": {
    "ExecuteTime": {
     "end_time": "2024-12-18T14:24:38.294003Z",
     "start_time": "2024-12-18T14:24:13.712320Z"
    }
   },
   "outputs": [],
   "source": [
    "#Creating the document embeddings and storing them in a vector database\n",
    "db_recipes = Chroma.from_documents(\n",
    "    documents,\n",
    "    embedding=OpenAIEmbeddings())"
   ]
  },
  {
   "cell_type": "code",
   "execution_count": 5,
   "id": "3b2d8ddafa516035",
   "metadata": {
    "ExecuteTime": {
     "end_time": "2024-12-18T14:29:59.321356Z",
     "start_time": "2024-12-18T14:29:58.842976Z"
    }
   },
   "outputs": [
    {
     "data": {
      "text/plain": [
       "[Document(id='614c0b81-bfce-4013-9b83-dcbbd2fdba78', metadata={'source': 'output_data/recipe_description.txt'}, page_content='38367 a mashed-potato type of soup. very comforting.'),\n",
       " Document(id='a394cbdd-d774-47fb-9295-31a0db260a1d', metadata={'source': 'output_data/recipe_description.txt'}, page_content='147621 potatoes, cheese, broccoli, ham, and carrots. this is a nice comfort food for those cold winter days.  i sometimes add garlic in mine as im a garlic lover.'),\n",
       " Document(id='01c658df-1a50-48ab-88c0-d605fbcfb4b4', metadata={'source': 'output_data/recipe_description.txt'}, page_content='the pot pie part i make with leftover chicken, some frozen mixed veggies, and either leftover gravy or cream of chicken soup.\"'),\n",
       " Document(id='3f09b54e-68b6-478d-a9c6-4f3be2f70f04', metadata={'source': 'output_data/recipe_description.txt'}, page_content='35859 this is a quick and very tasty soup that is very easy. i love it with a crusty bread and a salad for dinner.'),\n",
       " Document(id='6b94a1a6-47af-4366-a0ab-b6fdb269210f', metadata={'source': 'output_data/recipe_description.txt'}, page_content='67426 complete comfort food. great on a cold day.'),\n",
       " Document(id='06d0cf2d-9773-4887-b6d5-57d8b020a6da', metadata={'source': 'output_data/recipe_description.txt'}, page_content=\"274988 i love soup and this soup is easily a meal in of itself.  it's also a testament to the fact that meat does not need to be added to everything to make it taste great.  the beauty of this recipe is its simplicity and it tastes delicious.  it is great with some fresh white bread for dipping.\"),\n",
       " Document(id='c2e78623-7730-4bd7-9eda-4ff1f33b1df4', metadata={'source': 'output_data/recipe_description.txt'}, page_content='these are the dough squares that are added to your favorite broth. another \"\"comfort food\"\" that brings back fond memories of mom and grandma\\'s kitchens.'),\n",
       " Document(id='618ff10c-ceff-4919-aa04-222c19b20e08', metadata={'source': 'output_data/recipe_description.txt'}, page_content='46322 this is an easy and quick soup to prepare. and the flavor is wonderful! i hope you think so too!'),\n",
       " Document(id='81835f60-1996-4f0c-b613-21ef3800242a', metadata={'source': 'output_data/recipe_description.txt'}, page_content=\"275897 found in taste of home, these sound great for a cold weather meal, maybe with soup, chili or stews.  made these to go with clam chowder and made a nice match - but after making them agree they need a 1/2 tsp. of salt and i think i'd personally (i love pepper) increase the pepper to about 3/4 tsp.\"),\n",
       " Document(id='2c889925-1498-482e-b69c-9a324d2c6606', metadata={'source': 'output_data/recipe_description.txt'}, page_content=\"181346 a warm creamy sauce that's perfect over pasta and chicken.\")]"
      ]
     },
     "execution_count": 5,
     "metadata": {},
     "output_type": "execute_result"
    }
   ],
   "source": [
    "# Querying the vector database\n",
    "query = \"A warm winter soup\"\n",
    "docs = db_recipes.similarity_search(query, k = 10)\n",
    "docs"
   ]
  },
  {
   "cell_type": "code",
   "execution_count": 6,
   "id": "3a56ab7d744a491b",
   "metadata": {
    "ExecuteTime": {
     "end_time": "2024-12-18T14:32:28.914055Z",
     "start_time": "2024-12-18T14:32:28.907403Z"
    }
   },
   "outputs": [
    {
     "data": {
      "text/html": [
       "<div>\n",
       "<style scoped>\n",
       "    .dataframe tbody tr th:only-of-type {\n",
       "        vertical-align: middle;\n",
       "    }\n",
       "\n",
       "    .dataframe tbody tr th {\n",
       "        vertical-align: top;\n",
       "    }\n",
       "\n",
       "    .dataframe thead th {\n",
       "        text-align: right;\n",
       "    }\n",
       "</style>\n",
       "<table border=\"1\" class=\"dataframe\">\n",
       "  <thead>\n",
       "    <tr style=\"text-align: right;\">\n",
       "      <th></th>\n",
       "      <th>name</th>\n",
       "      <th>id</th>\n",
       "      <th>minutes</th>\n",
       "      <th>tags</th>\n",
       "      <th>n_steps</th>\n",
       "      <th>steps</th>\n",
       "      <th>description</th>\n",
       "      <th>ingredients</th>\n",
       "      <th>n_ingredients</th>\n",
       "      <th>average_rating</th>\n",
       "    </tr>\n",
       "  </thead>\n",
       "  <tbody>\n",
       "    <tr>\n",
       "      <th>744</th>\n",
       "      <td>potato and kale soup</td>\n",
       "      <td>38367</td>\n",
       "      <td>55</td>\n",
       "      <td>['60-minutes-or-less', 'time-to-make', 'course...</td>\n",
       "      <td>7</td>\n",
       "      <td>['in a large pan , cook onion in oil until ten...</td>\n",
       "      <td>38367 a mashed-potato type of soup. very comfo...</td>\n",
       "      <td>['olive oil', 'onion', 'garlic', 'potatoes', '...</td>\n",
       "      <td>7</td>\n",
       "      <td>4.4</td>\n",
       "    </tr>\n",
       "  </tbody>\n",
       "</table>\n",
       "</div>"
      ],
      "text/plain": [
       "                     name     id  minutes  \\\n",
       "744  potato and kale soup  38367       55   \n",
       "\n",
       "                                                  tags  n_steps  \\\n",
       "744  ['60-minutes-or-less', 'time-to-make', 'course...        7   \n",
       "\n",
       "                                                 steps  \\\n",
       "744  ['in a large pan , cook onion in oil until ten...   \n",
       "\n",
       "                                           description  \\\n",
       "744  38367 a mashed-potato type of soup. very comfo...   \n",
       "\n",
       "                                           ingredients  n_ingredients  \\\n",
       "744  ['olive oil', 'onion', 'garlic', 'potatoes', '...              7   \n",
       "\n",
       "     average_rating  \n",
       "744             4.4  "
      ]
     },
     "execution_count": 6,
     "metadata": {},
     "output_type": "execute_result"
    }
   ],
   "source": [
    "#Retrieve the recipe from the ID\n",
    "recipes[recipes[\"id\"] == int(docs[0].page_content.split()[0].strip())]"
   ]
  },
  {
   "cell_type": "code",
   "execution_count": 7,
   "id": "039171ec",
   "metadata": {},
   "outputs": [
    {
     "name": "stdout",
     "output_type": "stream",
     "text": [
      "🔭 OpenTelemetry Tracing Details 🔭\n",
      "|  Phoenix Project: default\n",
      "|  Span Processor: SimpleSpanProcessor\n",
      "|  Collector Endpoint: https://app.phoenix.arize.com/v1/traces\n",
      "|  Transport: HTTP + protobuf\n",
      "|  Transport Headers: {'api_key': '****', 'authorization': '****'}\n",
      "|  \n",
      "|  Using a default SpanProcessor. `add_span_processor` will overwrite this default.\n",
      "|  \n",
      "|  ⚠️ WARNING: It is strongly advised to use a BatchSpanProcessor in production environments.\n",
      "|  \n",
      "|  `register` has set this TracerProvider as the global OpenTelemetry default.\n",
      "|  To disable this behavior, call `register` with `set_global_tracer_provider=False`.\n",
      "\n"
     ]
    },
    {
     "data": {
      "text/html": [
       "<div>\n",
       "<style scoped>\n",
       "    .dataframe tbody tr th:only-of-type {\n",
       "        vertical-align: middle;\n",
       "    }\n",
       "\n",
       "    .dataframe tbody tr th {\n",
       "        vertical-align: top;\n",
       "    }\n",
       "\n",
       "    .dataframe thead th {\n",
       "        text-align: right;\n",
       "    }\n",
       "</style>\n",
       "<table border=\"1\" class=\"dataframe\">\n",
       "  <thead>\n",
       "    <tr style=\"text-align: right;\">\n",
       "      <th></th>\n",
       "      <th>name</th>\n",
       "      <th>id</th>\n",
       "      <th>minutes</th>\n",
       "      <th>tags</th>\n",
       "      <th>n_steps</th>\n",
       "      <th>steps</th>\n",
       "      <th>description</th>\n",
       "      <th>ingredients</th>\n",
       "      <th>n_ingredients</th>\n",
       "      <th>average_rating</th>\n",
       "    </tr>\n",
       "  </thead>\n",
       "  <tbody>\n",
       "    <tr>\n",
       "      <th>515</th>\n",
       "      <td>individual potato pudding  once a month cooking</td>\n",
       "      <td>30803</td>\n",
       "      <td>80</td>\n",
       "      <td>['weeknight', 'time-to-make', 'course', 'main-...</td>\n",
       "      <td>10</td>\n",
       "      <td>['peel and grate the potatoes', 'allow to drai...</td>\n",
       "      <td>30803 an easy side dish for those once a month...</td>\n",
       "      <td>['potatoes', 'onions', 'eggs', 'flour', 'salt'...</td>\n",
       "      <td>8</td>\n",
       "      <td>4.9</td>\n",
       "    </tr>\n",
       "    <tr>\n",
       "      <th>533</th>\n",
       "      <td>kale with caramelized onions and garlic</td>\n",
       "      <td>51780</td>\n",
       "      <td>22</td>\n",
       "      <td>['30-minutes-or-less', 'time-to-make', 'course...</td>\n",
       "      <td>9</td>\n",
       "      <td>['heat oil in large pan', 'add chopped onions ...</td>\n",
       "      <td>51780 a quick and simple side dish made with a...</td>\n",
       "      <td>['kale', 'onion', 'garlic cloves', 'olive oil'...</td>\n",
       "      <td>5</td>\n",
       "      <td>4.4</td>\n",
       "    </tr>\n",
       "    <tr>\n",
       "      <th>662</th>\n",
       "      <td>oodles of noodles   butter poppy seed  variation</td>\n",
       "      <td>339702</td>\n",
       "      <td>13</td>\n",
       "      <td>['15-minutes-or-less', 'time-to-make', 'course...</td>\n",
       "      <td>5</td>\n",
       "      <td>['cook noodles in a large pot of boiling salte...</td>\n",
       "      <td>339702 these noodles are wonderful if you need...</td>\n",
       "      <td>['egg noodles', 'butter', 'poppy seed']</td>\n",
       "      <td>3</td>\n",
       "      <td>4.8</td>\n",
       "    </tr>\n",
       "    <tr>\n",
       "      <th>836</th>\n",
       "      <td>simple spaghetti dish</td>\n",
       "      <td>256215</td>\n",
       "      <td>11</td>\n",
       "      <td>['15-minutes-or-less', 'time-to-make', 'main-i...</td>\n",
       "      <td>4</td>\n",
       "      <td>['cook spaghetti according to package directio...</td>\n",
       "      <td>256215 a great simple meal or late night snack...</td>\n",
       "      <td>['spaghetti', 'butter', 'salt', 'black pepper']</td>\n",
       "      <td>4</td>\n",
       "      <td>4.5</td>\n",
       "    </tr>\n",
       "    <tr>\n",
       "      <th>912</th>\n",
       "      <td>super quick pizza dough</td>\n",
       "      <td>28008</td>\n",
       "      <td>35</td>\n",
       "      <td>['60-minutes-or-less', 'time-to-make', 'course...</td>\n",
       "      <td>6</td>\n",
       "      <td>['mix yeast in warm water until dissolved', 's...</td>\n",
       "      <td>28008 only a 15-minute rise time! add a pinch ...</td>\n",
       "      <td>['yeast', 'water', 'oil', 'all-purpose flour']</td>\n",
       "      <td>4</td>\n",
       "      <td>4.0</td>\n",
       "    </tr>\n",
       "  </tbody>\n",
       "</table>\n",
       "</div>"
      ],
      "text/plain": [
       "                                                 name      id  minutes  \\\n",
       "515   individual potato pudding  once a month cooking   30803       80   \n",
       "533           kale with caramelized onions and garlic   51780       22   \n",
       "662  oodles of noodles   butter poppy seed  variation  339702       13   \n",
       "836                             simple spaghetti dish  256215       11   \n",
       "912                           super quick pizza dough   28008       35   \n",
       "\n",
       "                                                  tags  n_steps  \\\n",
       "515  ['weeknight', 'time-to-make', 'course', 'main-...       10   \n",
       "533  ['30-minutes-or-less', 'time-to-make', 'course...        9   \n",
       "662  ['15-minutes-or-less', 'time-to-make', 'course...        5   \n",
       "836  ['15-minutes-or-less', 'time-to-make', 'main-i...        4   \n",
       "912  ['60-minutes-or-less', 'time-to-make', 'course...        6   \n",
       "\n",
       "                                                 steps  \\\n",
       "515  ['peel and grate the potatoes', 'allow to drai...   \n",
       "533  ['heat oil in large pan', 'add chopped onions ...   \n",
       "662  ['cook noodles in a large pot of boiling salte...   \n",
       "836  ['cook spaghetti according to package directio...   \n",
       "912  ['mix yeast in warm water until dissolved', 's...   \n",
       "\n",
       "                                           description  \\\n",
       "515  30803 an easy side dish for those once a month...   \n",
       "533  51780 a quick and simple side dish made with a...   \n",
       "662  339702 these noodles are wonderful if you need...   \n",
       "836  256215 a great simple meal or late night snack...   \n",
       "912  28008 only a 15-minute rise time! add a pinch ...   \n",
       "\n",
       "                                           ingredients  n_ingredients  \\\n",
       "515  ['potatoes', 'onions', 'eggs', 'flour', 'salt'...              8   \n",
       "533  ['kale', 'onion', 'garlic cloves', 'olive oil'...              5   \n",
       "662            ['egg noodles', 'butter', 'poppy seed']              3   \n",
       "836    ['spaghetti', 'butter', 'salt', 'black pepper']              4   \n",
       "912     ['yeast', 'water', 'oil', 'all-purpose flour']              4   \n",
       "\n",
       "     average_rating  \n",
       "515             4.9  \n",
       "533             4.4  \n",
       "662             4.8  \n",
       "836             4.5  \n",
       "912             4.0  "
      ]
     },
     "execution_count": 7,
     "metadata": {},
     "output_type": "execute_result"
    }
   ],
   "source": [
    "# Initializing Phoenix\n",
    "from phoenix.otel import register\n",
    "\n",
    "# configure the Phoenix tracer\n",
    "tracer_provider = register(\n",
    "  project_name=\"default\", # Default is 'default'\n",
    "  auto_instrument=True # See 'Trace all calls made to a library' below\n",
    ")\n",
    "tracer = tracer_provider.get_tracer(__name__)\n",
    "\n",
    "# Creating a function that retrieves the top 5 recipes based on a query\n",
    "@tracer.chain\n",
    "def retrieve_top_5_recipes(query: str) -> pd.DataFrame:\n",
    "    top_docs = db_recipes.similarity_search(query, k=5)\n",
    "    recipe_ids = [int(doc.page_content.split()[0].strip()) for doc in top_docs]\n",
    "    return recipes[recipes[\"id\"].isin(recipe_ids)]\n",
    "\n",
    "\n",
    "retrieve_top_5_recipes(\"A quick and easy dinner\")"
   ]
  }
 ],
 "metadata": {
  "kernelspec": {
   "display_name": ".venv",
   "language": "python",
   "name": "python3"
  },
  "language_info": {
   "codemirror_mode": {
    "name": "ipython",
    "version": 3
   },
   "file_extension": ".py",
   "mimetype": "text/x-python",
   "name": "python",
   "nbconvert_exporter": "python",
   "pygments_lexer": "ipython3",
   "version": "3.9.6"
  }
 },
 "nbformat": 4,
 "nbformat_minor": 5
}
